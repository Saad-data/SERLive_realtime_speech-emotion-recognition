{
  "nbformat": 4,
  "nbformat_minor": 0,
  "metadata": {
    "kernelspec": {
      "display_name": "Python 3",
      "language": "python",
      "name": "python3"
    },
    "language_info": {
      "codemirror_mode": {
        "name": "ipython",
        "version": 3
      },
      "file_extension": ".py",
      "mimetype": "text/x-python",
      "name": "python",
      "nbconvert_exporter": "python",
      "pygments_lexer": "ipython3",
      "version": "3.8.5"
    },
    "colab": {
      "provenance": [],
      "collapsed_sections": [
        "qIrA6eoQGMiH"
      ]
    }
  },
  "cells": [
    {
      "cell_type": "markdown",
      "metadata": {
        "id": "view-in-github"
      },
      "source": [
        "<a href=\"https://colab.research.google.com/github/MeidanGR/SpeechEmotionRecognition_Realtime/blob/main/3_realtime_ser.ipynb\" target=\"_parent\"><img src=\"https://colab.research.google.com/assets/colab-badge.svg\" alt=\"Open In Colab\"/></a>"
      ]
    },
    {
      "cell_type": "markdown",
      "metadata": {
        "id": "B2QAnJ2-D_G0"
      },
      "source": [
        "# **Speech Emotion Recognition (Classification) in real-time using Deep LSTM layers**\n",
        "### ***Real-time implementaion of the SER model***\n",
        "---\n",
        "\n",
        "\n"
      ]
    },
    {
      "cell_type": "markdown",
      "metadata": {
        "id": "7Gcq7z02GfSH"
      },
      "source": [
        "# **ABSTRACT**\n",
        "This implementation of a pre-trained Speech Emotion Recognition (SER) model is designed to perform real-time analysis of vocal input, enabling the identification and visualization of the emotional states expressed in speech.\n",
        "\n",
        "Emotion recognition from speech is inherently a temporal task rather than an instantaneous one. From a linguistic perspective, identical phrases can convey vastly different emotions depending on prosodic variations such as intonation, stress, or even the emphasis on a single syllable.\n",
        "\n",
        "The model employed in this system is a Long Short-Term Memory (LSTM) based deep learning network, which achieves a classification accuracy of 87.23%. It has been trained to capture and interpret long-term dependencies in speech by learning patterns within sequences of audio-derived features, such as Mel-Frequency Cepstral Coefficients (MFCCs), Zero-Crossing Rate (ZCR), and Root Mean Square (RMS) energy.\n",
        "\n",
        "The system captures audio input via the platform's microphone, stores it temporarily in a .wav file, preprocesses the signal to extract relevant features, and then generates a probabilistic distribution over a predefined set of emotion categories. Each processing cycle analyzes a 7.1-second segment of speech.\n",
        "\n",
        "The recognition loop continues iteratively as long as continuous speech is detected. Upon detecting a silence of two seconds or more, the system terminates the session. At the conclusion of each session, it presents a summary visualization based on the mean emotion probabilities computed across all recorded segments.\n",
        "\n"
      ]
    },
    {
      "cell_type": "markdown",
      "metadata": {
        "id": "ZGNQaFNUEQMm"
      },
      "source": [
        "# **LIBRARIES & GOOGLE AUTH**"
      ]
    },
    {
      "cell_type": "code",
      "metadata": {
        "colab": {
          "base_uri": "https://localhost:8080/"
        },
        "id": "RVEzIMYrFpEf",
        "outputId": "355cc17d-99dd-4638-9b5d-18dda8ffe277"
      },
      "source": [
        "from google.colab import drive\n",
        "drive.mount('/content/drive', force_remount = True)"
      ],
      "execution_count": 1,
      "outputs": [
        {
          "output_type": "stream",
          "name": "stdout",
          "text": [
            "Mounted at /content/drive\n"
          ]
        }
      ]
    },
    {
      "cell_type": "code",
      "metadata": {
        "id": "lA4vLC6ID715"
      },
      "source": [
        "%%capture\n",
        "!pip install pydub\n",
        "!pip install noisereduce\n",
        "!pip install pyaudio\n",
        "!pip install json-tricks"
      ],
      "execution_count": 2,
      "outputs": []
    },
    {
      "cell_type": "code",
      "metadata": {
        "id": "V4cVP0NmD71-"
      },
      "source": [
        "%%capture\n",
        "import os\n",
        "from json_tricks import load\n",
        "\n",
        "import numpy as np\n",
        "\n",
        "import librosa\n",
        "from pydub import AudioSegment, effects\n",
        "import noisereduce as nr\n",
        "\n",
        "import tensorflow as tf\n",
        "import keras\n",
        "from keras.models import model_from_json\n",
        "from keras.models import load_model\n",
        "\n",
        "import matplotlib.pyplot as plt"
      ],
      "execution_count": 3,
      "outputs": []
    },
    {
      "cell_type": "markdown",
      "metadata": {
        "id": "lSjs9TReEUls"
      },
      "source": [
        "# **LOAD MODEL**\n",
        "Loading the speech emotion recognition LSTM model and weights."
      ]
    },
    {
      "cell_type": "code",
      "metadata": {
        "colab": {
          "base_uri": "https://localhost:8080/",
          "height": 242
        },
        "id": "i6qXd1-vD72A",
        "outputId": "3d6d9f33-5064-4e86-f622-6c23aa550aad"
      },
      "source": [
        "saved_model_path = '/content/drive/My Drive/Colab Notebooks/model8723.json'\n",
        "saved_weights_path = '/content/drive/My Drive/model.weights.h5'\n",
        "\n",
        "#Reading the model from JSON file\n",
        "with open(saved_model_path, 'r') as json_file:\n",
        "    json_savedModel = json_file.read()\n",
        "\n",
        "# Loading the model architecture, weights\n",
        "model = tf.keras.models.model_from_json(json_savedModel)\n",
        "model.load_weights(saved_weights_path)\n",
        "\n",
        "# Compiling the model with similar parameters as the original model.\n",
        "model.compile(loss='categorical_crossentropy',\n",
        "                optimizer='RMSProp',\n",
        "                metrics=['categorical_accuracy'])\n",
        "\n",
        "print(model.summary())"
      ],
      "execution_count": 5,
      "outputs": [
        {
          "output_type": "display_data",
          "data": {
            "text/plain": [
              "\u001b[1mModel: \"sequential\"\u001b[0m\n"
            ],
            "text/html": [
              "<pre style=\"white-space:pre;overflow-x:auto;line-height:normal;font-family:Menlo,'DejaVu Sans Mono',consolas,'Courier New',monospace\"><span style=\"font-weight: bold\">Model: \"sequential\"</span>\n",
              "</pre>\n"
            ]
          },
          "metadata": {}
        },
        {
          "output_type": "display_data",
          "data": {
            "text/plain": [
              "┏━━━━━━━━━━━━━━━━━━━━━━━━━━━━━━━━━┳━━━━━━━━━━━━━━━━━━━━━━━━┳━━━━━━━━━━━━━━━┓\n",
              "┃\u001b[1m \u001b[0m\u001b[1mLayer (type)                   \u001b[0m\u001b[1m \u001b[0m┃\u001b[1m \u001b[0m\u001b[1mOutput Shape          \u001b[0m\u001b[1m \u001b[0m┃\u001b[1m \u001b[0m\u001b[1m      Param #\u001b[0m\u001b[1m \u001b[0m┃\n",
              "┡━━━━━━━━━━━━━━━━━━━━━━━━━━━━━━━━━╇━━━━━━━━━━━━━━━━━━━━━━━━╇━━━━━━━━━━━━━━━┩\n",
              "│ lstm (\u001b[38;5;33mLSTM\u001b[0m)                     │ (\u001b[38;5;45mNone\u001b[0m, \u001b[38;5;34m400\u001b[0m, \u001b[38;5;34m64\u001b[0m)        │        \u001b[38;5;34m20,480\u001b[0m │\n",
              "├─────────────────────────────────┼────────────────────────┼───────────────┤\n",
              "│ lstm_1 (\u001b[38;5;33mLSTM\u001b[0m)                   │ (\u001b[38;5;45mNone\u001b[0m, \u001b[38;5;34m64\u001b[0m)             │        \u001b[38;5;34m33,024\u001b[0m │\n",
              "├─────────────────────────────────┼────────────────────────┼───────────────┤\n",
              "│ dense (\u001b[38;5;33mDense\u001b[0m)                   │ (\u001b[38;5;45mNone\u001b[0m, \u001b[38;5;34m8\u001b[0m)              │           \u001b[38;5;34m520\u001b[0m │\n",
              "└─────────────────────────────────┴────────────────────────┴───────────────┘\n"
            ],
            "text/html": [
              "<pre style=\"white-space:pre;overflow-x:auto;line-height:normal;font-family:Menlo,'DejaVu Sans Mono',consolas,'Courier New',monospace\">┏━━━━━━━━━━━━━━━━━━━━━━━━━━━━━━━━━┳━━━━━━━━━━━━━━━━━━━━━━━━┳━━━━━━━━━━━━━━━┓\n",
              "┃<span style=\"font-weight: bold\"> Layer (type)                    </span>┃<span style=\"font-weight: bold\"> Output Shape           </span>┃<span style=\"font-weight: bold\">       Param # </span>┃\n",
              "┡━━━━━━━━━━━━━━━━━━━━━━━━━━━━━━━━━╇━━━━━━━━━━━━━━━━━━━━━━━━╇━━━━━━━━━━━━━━━┩\n",
              "│ lstm (<span style=\"color: #0087ff; text-decoration-color: #0087ff\">LSTM</span>)                     │ (<span style=\"color: #00d7ff; text-decoration-color: #00d7ff\">None</span>, <span style=\"color: #00af00; text-decoration-color: #00af00\">400</span>, <span style=\"color: #00af00; text-decoration-color: #00af00\">64</span>)        │        <span style=\"color: #00af00; text-decoration-color: #00af00\">20,480</span> │\n",
              "├─────────────────────────────────┼────────────────────────┼───────────────┤\n",
              "│ lstm_1 (<span style=\"color: #0087ff; text-decoration-color: #0087ff\">LSTM</span>)                   │ (<span style=\"color: #00d7ff; text-decoration-color: #00d7ff\">None</span>, <span style=\"color: #00af00; text-decoration-color: #00af00\">64</span>)             │        <span style=\"color: #00af00; text-decoration-color: #00af00\">33,024</span> │\n",
              "├─────────────────────────────────┼────────────────────────┼───────────────┤\n",
              "│ dense (<span style=\"color: #0087ff; text-decoration-color: #0087ff\">Dense</span>)                   │ (<span style=\"color: #00d7ff; text-decoration-color: #00d7ff\">None</span>, <span style=\"color: #00af00; text-decoration-color: #00af00\">8</span>)              │           <span style=\"color: #00af00; text-decoration-color: #00af00\">520</span> │\n",
              "└─────────────────────────────────┴────────────────────────┴───────────────┘\n",
              "</pre>\n"
            ]
          },
          "metadata": {}
        },
        {
          "output_type": "display_data",
          "data": {
            "text/plain": [
              "\u001b[1m Total params: \u001b[0m\u001b[38;5;34m54,024\u001b[0m (211.03 KB)\n"
            ],
            "text/html": [
              "<pre style=\"white-space:pre;overflow-x:auto;line-height:normal;font-family:Menlo,'DejaVu Sans Mono',consolas,'Courier New',monospace\"><span style=\"font-weight: bold\"> Total params: </span><span style=\"color: #00af00; text-decoration-color: #00af00\">54,024</span> (211.03 KB)\n",
              "</pre>\n"
            ]
          },
          "metadata": {}
        },
        {
          "output_type": "display_data",
          "data": {
            "text/plain": [
              "\u001b[1m Trainable params: \u001b[0m\u001b[38;5;34m54,024\u001b[0m (211.03 KB)\n"
            ],
            "text/html": [
              "<pre style=\"white-space:pre;overflow-x:auto;line-height:normal;font-family:Menlo,'DejaVu Sans Mono',consolas,'Courier New',monospace\"><span style=\"font-weight: bold\"> Trainable params: </span><span style=\"color: #00af00; text-decoration-color: #00af00\">54,024</span> (211.03 KB)\n",
              "</pre>\n"
            ]
          },
          "metadata": {}
        },
        {
          "output_type": "display_data",
          "data": {
            "text/plain": [
              "\u001b[1m Non-trainable params: \u001b[0m\u001b[38;5;34m0\u001b[0m (0.00 B)\n"
            ],
            "text/html": [
              "<pre style=\"white-space:pre;overflow-x:auto;line-height:normal;font-family:Menlo,'DejaVu Sans Mono',consolas,'Courier New',monospace\"><span style=\"font-weight: bold\"> Non-trainable params: </span><span style=\"color: #00af00; text-decoration-color: #00af00\">0</span> (0.00 B)\n",
              "</pre>\n"
            ]
          },
          "metadata": {}
        },
        {
          "output_type": "stream",
          "name": "stdout",
          "text": [
            "None\n"
          ]
        }
      ]
    },
    {
      "cell_type": "markdown",
      "metadata": {
        "id": "qIrA6eoQGMiH"
      },
      "source": [
        "# **DATA PREPROCESSING**\n",
        "\n",
        "#Audio Preprocessing Pipeline for Speech Emotion Recognition (SER)\n",
        "The input .wav audio signal undergoes a structured preprocessing routine aligned with the model's training configuration:\n",
        "\n",
        "* Sampling Rate Acquisition is performed via librosa to ensure temporal fidelity of the signal.\n",
        "* Signal Loading and Amplitude Normalization are executed using pydub, adjusting the dynamic range to `+5.0 dBFS` for consistent loudness levels.\n",
        "\n",
        "* Waveform Vectorization converts the normalized audio to a numerical array using numpy.\n",
        "\n",
        "* Denoising is applied using the noisereduce library to enhance the signal-to-noise ratio.\n",
        "\n",
        "Subsequently, the following low-level acoustic descriptors are extracted:\n",
        "\n",
        "1. Root Mean Square Energy (RMS) – quantifies the signal’s power envelope.\n",
        "\n",
        "2. Zero-Crossing Rate (ZCR) – captures frequency transitions and signal noisiness.\n",
        "\n",
        "3. Mel-Frequency Cepstral Coefficients (MFCCs) – represent the timbral and spectral properties of speech.\n",
        "\n",
        "Feature extraction is parameterized with frame_length = 2048 and hop_length = 512, ensuring uniform temporal resolution. The resulting feature matrix is concatenated and reshaped to a 3D tensor X_3D ∈ ℝ(1 × T × F) — where T is the number of time steps and F the feature dimensionality — for direct compatibility with the LSTM-based SER architecture"
      ]
    },
    {
      "cell_type": "code",
      "metadata": {
        "id": "WyCwGZaeD72C"
      },
      "source": [
        "def preprocess(file_path, frame_length=2048, hop_length=512):\n",
        "    '''\n",
        "    Preprocesses an audio .wav file before executing a prediction.\n",
        "\n",
        "    Arguments:\n",
        "      - file_path: The full path to the audio file.\n",
        "      - frame_length: Frame size for feature extraction. Default is 2048.\n",
        "      - hop_length: Hop size between frames. Default is 512.\n",
        "\n",
        "    Returns:\n",
        "      - X_3D: A 3D array (batch, timesteps, features) suitable for model input.\n",
        "    '''\n",
        "\n",
        "    # Fetch sample rate\n",
        "    _, sr = librosa.load(path=file_path, sr=None)\n",
        "\n",
        "    # Load audio file\n",
        "    rawsound = AudioSegment.from_file(file_path)\n",
        "\n",
        "    # Normalize volume\n",
        "    normalizedsound = effects.normalize(rawsound, headroom=5.0)\n",
        "\n",
        "    # Convert audio to numpy array\n",
        "    normal_x = np.array(normalizedsound.get_array_of_samples(), dtype='float32')\n",
        "\n",
        "    # Noise reduction\n",
        "    final_x = nr.reduce_noise(y=normal_x, sr=sr)\n",
        "    # Feature extraction\n",
        "    f1 = librosa.feature.rms(y=final_x, frame_length=frame_length, hop_length=hop_length, center=True, pad_mode='reflect').T\n",
        "    f2 = librosa.feature.zero_crossing_rate(y=final_x, frame_length=frame_length, hop_length=hop_length, center=True).T\n",
        "    f3 = librosa.feature.mfcc(y=final_x, sr=sr, n_mfcc=13, hop_length=hop_length).T\n",
        "\n",
        "    # Combine features\n",
        "    X = np.concatenate((f1, f2, f3), axis=1)\n",
        "\n",
        "    # Add batch dimension\n",
        "    X_3D = np.expand_dims(X, axis=0)\n",
        "\n",
        "    return X_3D\n"
      ],
      "execution_count": 12,
      "outputs": []
    },
    {
      "cell_type": "markdown",
      "metadata": {
        "id": "zuiRFk30CDGs"
      },
      "source": [
        "# **Additional System Configuration**\n",
        "- An **emotion label mapping list** is initialized to interpret the model’s numerical output into human-readable categorical emotions.\n",
        "\n",
        "- The `is_silent()` utility function serves as a binary audio activity detector, returning True when the peak amplitude of the input signal falls below a predefined threshold—indicative of a silent or non-speech segment. This facilitates dynamic session control by terminating the emotion recognition process upon prolonged silence.\n"
      ]
    },
    {
      "cell_type": "code",
      "metadata": {
        "id": "vXfNZp8qD72D"
      },
      "source": [
        "# Emotions list is created for a readable form of the model prediction.\n",
        "\n",
        "emotions = {\n",
        "    0 : 'neutral',\n",
        "    1 : 'calm',\n",
        "    2 : 'happy',\n",
        "    3 : 'sad',\n",
        "    4 : 'angry',\n",
        "    5 : 'fearful',\n",
        "    6 : 'disgust',\n",
        "    7 : 'suprised'\n",
        "}\n",
        "emo_list = list(emotions.values())\n",
        "\n",
        "def is_silent(data):\n",
        "    # Returns 'True' if below the 'silent' threshold\n",
        "    return max(data) < 100\n"
      ],
      "execution_count": 13,
      "outputs": []
    },
    {
      "cell_type": "markdown",
      "metadata": {
        "id": "4nmp_ojL4Urt"
      },
      "source": [
        "# **REAL-TIME IMPLEMENTATION**\n",
        "\n",
        "- This implementation operationalizes a pre-trained LSTM-based Speech Emotion Recognition (SER) model\n",
        "- for real-time inference on live audio input captured via the system's soundcard.\n",
        "- The execution pipeline comprises the following sequential stages:\n",
        "\n",
        "1.   Session initialization, establishing an input audio stream using `pyaudio`.\n",
        "\n",
        "2.   If **non-silent** input is detected, the incoming audio frames are buffered and stored\n",
        "     in a temporary `.wav` file using `pyaudio` and `wave` libraries.\n",
        "\n",
        "    2.1  After a 7.1-second audio window, recording pauses momentarily to allow preprocessing and prediction on the accumulated waveform before resuming.\n",
        "\n",
        "    2.2  The temporary `.wav` file undergoes signal conditioning and feature extraction via the `preprocess` function.\n",
        "\n",
        "    2.3  The preprocessed audio tensor is passed to `model.predict()`, which returns an 8-dimensional probability vector representing the likelihood of each emotion class: `predictions = [array([p_neutral, p_calm, p_happy, p_sad, p_angry, p_fearful, p_disgust, p_surprised], dtype=float32)]`\n",
        "\n",
        "    2.4  The predictions are vectorized and stripped of metadata (e.g., dtype annotations) for interpretability and stored for aggregation.\n",
        "\n",
        "    2.5  Emotion probability distributions for each recording window are visualized dynamically using `matplotlib`.\n",
        "\n",
        "3.   If silence is detected in the final 2-second window of audio (below a predefined threshold):\n",
        "\n",
        "    3.1  The loop is terminated, session ends, and audio streams are closed to release system resources.\n",
        "\n",
        "    3.2  A session-level summary is rendered, showing the mean probabilities across all emotion categories.\n",
        "\n",
        "    3.3  The cumulative session duration is printed.\n",
        "\n",
        "## **VARIABLES EXPLAINED**\n",
        "RATE = Sampling rate (24414 Hz), aligned with the training configuration of the LSTM model.\n",
        "\n",
        "CHUNK = Frame buffer size for streaming (512 samples), analogous to `hop_length` in `librosa`.\n",
        "\n",
        "FORMAT = Audio bit depth, set to 32-bit integers (`paInt32`) for compatibility with the model's input profile.\n",
        "\n",
        "CHANNELS = Mono audio configuration (single channel), typical for microphone input in consumer devices.\n"
      ]
    },
    {
      "cell_type": "code",
      "metadata": {
        "id": "4s4DyZckD72E",
        "outputId": "bd845a06-df7c-4b09-ab9f-a53006754094",
        "colab": {
          "base_uri": "https://localhost:8080/",
          "height": 550
        }
      },
      "source": [
        "emo_list = ['neutral', 'calm', 'happy', 'sad', 'angry', 'fearful', 'disgust', 'surprised']\n",
        "emotions = {i: emo for i, emo in enumerate(emo_list)}\n",
        "\n",
        "# Use the uploaded audio file\n",
        "file_path = \"/content/drive/My Drive/Colab Notebooks/nominew.wav\"\n",
        "\n",
        "# Preprocess and predict\n",
        "x = preprocess(file_path)\n",
        "predictions = model.predict(x)\n",
        "pred_np = predictions[0]\n",
        "\n",
        "# Plot results\n",
        "import matplotlib.pyplot as plt\n",
        "\n",
        "plt.figure(figsize=(10, 4))\n",
        "plt.bar(emo_list, pred_np, color='darkturquoise')\n",
        "plt.ylabel(\"Probability\")\n",
        "plt.title(\"Predicted Emotion Distribution\")\n",
        "plt.show()\n",
        "\n",
        "# Print most likely emotion\n",
        "print(\" Predicted Emotion:\", emotions[np.argmax(pred_np)])"
      ],
      "execution_count": 36,
      "outputs": [
        {
          "output_type": "stream",
          "name": "stderr",
          "text": [
            "<ipython-input-12-d370a7141667>:15: UserWarning: PySoundFile failed. Trying audioread instead.\n",
            "  _, sr = librosa.load(path=file_path, sr=None)\n",
            "/usr/local/lib/python3.11/dist-packages/librosa/core/audio.py:184: FutureWarning: librosa.core.audio.__audioread_load\n",
            "\tDeprecated as of librosa version 0.10.0.\n",
            "\tIt will be removed in librosa version 1.0.\n",
            "  y, sr_native = __audioread_load(path, offset, duration, dtype)\n"
          ]
        },
        {
          "output_type": "stream",
          "name": "stdout",
          "text": [
            "\u001b[1m1/1\u001b[0m \u001b[32m━━━━━━━━━━━━━━━━━━━━\u001b[0m\u001b[37m\u001b[0m \u001b[1m0s\u001b[0m 107ms/step\n"
          ]
        },
        {
          "output_type": "display_data",
          "data": {
            "text/plain": [
              "<Figure size 1000x400 with 1 Axes>"
            ],
            "image/png": "[encoded data removed]"
          },
          "metadata": {}
        },
        {
          "output_type": "stream",
          "name": "stdout",
          "text": [
            " Predicted Emotion: neutral\n"
          ]
        }
      ]
    }
  ]
}